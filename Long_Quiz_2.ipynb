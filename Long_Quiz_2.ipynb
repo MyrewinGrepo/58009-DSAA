{
  "nbformat": 4,
  "nbformat_minor": 0,
  "metadata": {
    "colab": {
      "provenance": [],
      "authorship_tag": "ABX9TyP9awg4R+bIzQJd2g+4s1fR",
      "include_colab_link": true
    },
    "kernelspec": {
      "name": "python3",
      "display_name": "Python 3"
    },
    "language_info": {
      "name": "python"
    }
  },
  "cells": [
    {
      "cell_type": "markdown",
      "metadata": {
        "id": "view-in-github",
        "colab_type": "text"
      },
      "source": [
        "<a href=\"https://colab.research.google.com/github/MyrewinGrepo/58009-DSAA/blob/main/Long_Quiz_2.ipynb\" target=\"_parent\"><img src=\"https://colab.research.google.com/assets/colab-badge.svg\" alt=\"Open In Colab\"/></a>"
      ]
    },
    {
      "cell_type": "code",
      "execution_count": 1,
      "metadata": {
        "colab": {
          "base_uri": "https://localhost:8080/"
        },
        "id": "0h7gKXtztzec",
        "outputId": "cad6e73a-0d3a-4e51-d6d4-86b41c1e3d45"
      },
      "outputs": [
        {
          "output_type": "stream",
          "name": "stdout",
          "text": [
            "['E', 'F', 'J', 'H', 'I', 'K', 'M', 'P']\n"
          ]
        }
      ],
      "source": [
        "class graph:\n",
        "   def __init__(self,gdict=None):\n",
        "      if gdict is None:\n",
        "         gdict = []\n",
        "      self.gdict = gdict\n",
        "\n",
        "   def getVertices(self):\n",
        "      return list(self.gdict.keys())\n",
        "\n",
        "graph_elements = {\n",
        "   \"E\" : [\"I\",\"J\", \"K\", \"M\"],\n",
        "   \"F\" : [\"J\", \"I\", \"K\", \"P\"],\n",
        "   \"J\" : [\"H\", \"E\", \"F\"],\n",
        "   \"H\" : [\"J\", \"K\", \"I\"],\n",
        "   \"I\" : [\"H\", \"F\", \"E\"],\n",
        "   \"K\" : [\"H\", \"E\", \"F\"],\n",
        "   \"M\" : [\"E\"],\n",
        "   \"P\" : [\"F\"]\n",
        "}\n",
        "g = graph(graph_elements)\n",
        "print(g.getVertices())\n"
      ]
    },
    {
      "cell_type": "code",
      "source": [
        "class graph:\n",
        "   def __init__(self,gdict=None):\n",
        "      if gdict is None:\n",
        "         gdict = {}\n",
        "      self.gdict = gdict\n",
        "\n",
        "   def edges(self):\n",
        "      return self.findedges()\n",
        "\n",
        "   def findedges(self):\n",
        "      edgename = []\n",
        "      for vrtx in self.gdict:\n",
        "         for nxtvrtx in self.gdict[vrtx]:\n",
        "            if {nxtvrtx, vrtx} not in edgename:\n",
        "               edgename.append({vrtx, nxtvrtx})\n",
        "      return edgename\n",
        "\n",
        "graph_elements = {\n",
        "  \"E\" : [\"I\",\"J\", \"K\", \"M\"],\n",
        "   \"F\" : [\"J\", \"I\", \"K\", \"P\"],\n",
        "   \"J\" : [\"H\", \"E\", \"F\"],\n",
        "   \"H\" : [\"J\", \"K\", \"I\"],\n",
        "   \"I\" : [\"H\", \"F\", \"E\"],\n",
        "   \"K\" : [\"H\", \"E\", \"F\"],\n",
        "   \"M\" : [\"E\"],\n",
        "   \"P\" : [\"F\"]\n",
        "}\n",
        "g = graph(graph_elements)\n",
        "print(g.edges())"
      ],
      "metadata": {
        "colab": {
          "base_uri": "https://localhost:8080/"
        },
        "id": "cv50XcDHxmyp",
        "outputId": "a3cfeb56-48f9-4487-c1f4-65b41f4f91d4"
      },
      "execution_count": 5,
      "outputs": [
        {
          "output_type": "stream",
          "name": "stdout",
          "text": [
            "[{'E', 'I'}, {'E', 'J'}, {'E', 'K'}, {'M', 'E'}, {'F', 'J'}, {'F', 'I'}, {'F', 'K'}, {'P', 'F'}, {'H', 'J'}, {'H', 'K'}, {'H', 'I'}]\n"
          ]
        }
      ]
    }
  ]
}