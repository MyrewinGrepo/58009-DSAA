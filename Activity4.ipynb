{
  "nbformat": 4,
  "nbformat_minor": 0,
  "metadata": {
    "colab": {
      "provenance": [],
      "authorship_tag": "ABX9TyM7d6JWVTj3YnIcXyB/cStg",
      "include_colab_link": true
    },
    "kernelspec": {
      "name": "python3",
      "display_name": "Python 3"
    },
    "language_info": {
      "name": "python"
    }
  },
  "cells": [
    {
      "cell_type": "markdown",
      "metadata": {
        "id": "view-in-github",
        "colab_type": "text"
      },
      "source": [
        "<a href=\"https://colab.research.google.com/github/MyrewinGrepo/58009-DSAA/blob/main/Activity4.ipynb\" target=\"_parent\"><img src=\"https://colab.research.google.com/assets/colab-badge.svg\" alt=\"Open In Colab\"/></a>"
      ]
    },
    {
      "cell_type": "code",
      "execution_count": 19,
      "metadata": {
        "colab": {
          "base_uri": "https://localhost:8080/"
        },
        "id": "aDbfZCEOuiPz",
        "outputId": "bc2e23e2-f33c-4cf1-f046-e46178766529"
      },
      "outputs": [
        {
          "output_type": "stream",
          "name": "stdout",
          "text": [
            "Welcome to JasonCrib\n",
            "\n",
            "Preparing:  152 6342\n",
            "Serving:  152\n",
            "Preparing:  6342 7543 754\n",
            "Serving:  6342\n",
            "Preparing:  7543 754 859 153\n",
            "Serving:  7543 754\n",
            "Preparing:  859 153 4321 4325 867 543\n",
            "Serving:  859 153 4321\n",
            "Preparing:  4325 867 543 3 543\n",
            "Serving:  4325 867 543\n",
            "Preparing:  3 543 56\n",
            "Serving:  3 543 56\n",
            "Preparing: \n",
            "Serving: \n"
          ]
        }
      ],
      "source": [
        "queue=[]\n",
        "print(\"Welcome to JasonCrib\\n\")\n",
        "queue.append(152)\n",
        "queue.append(6342)\n",
        "print(\"Preparing: \", queue[0],queue[1])\n",
        "print(\"Serving: \",queue.pop(0))\n",
        "queue.append(7543)\n",
        "queue.append(754)\n",
        "print(\"Preparing: \", queue[0],queue[1],queue[2])\n",
        "print(\"Serving: \",queue.pop(0))\n",
        "queue.append(859)\n",
        "queue.append(153)\n",
        "print(\"Preparing: \", queue[0],queue[1],queue[2],queue[3])\n",
        "print(\"Serving: \",queue.pop(0),queue.pop(0))\n",
        "queue.append(4321)\n",
        "queue.append(4325)\n",
        "queue.append(867)\n",
        "queue.append(543)\n",
        "print(\"Preparing: \", queue[0],queue[1],queue[2],queue[3],queue[4],queue[5])\n",
        "print(\"Serving: \",queue.pop(0),queue.pop(0),queue.pop(0))\n",
        "queue.append(3)\n",
        "queue.append(543)\n",
        "print(\"Preparing: \",queue[0],queue[1],queue[2],queue[3],queue[4])\n",
        "print(\"Serving: \",queue.pop(0),queue.pop(0),queue.pop(0))\n",
        "queue.append(56)\n",
        "print(\"Preparing: \",queue[0],queue[1],queue[2])\n",
        "print(\"Serving: \",queue.pop(0),queue.pop(0),queue.pop(0))\n",
        "print(\"Preparing: \")\n",
        "print(\"Serving: \")"
      ]
    }
  ]
}