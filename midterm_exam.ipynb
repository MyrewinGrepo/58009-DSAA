{
  "nbformat": 4,
  "nbformat_minor": 0,
  "metadata": {
    "colab": {
      "provenance": [],
      "authorship_tag": "ABX9TyPDZ4VYsSioTWuH1T/nINel",
      "include_colab_link": true
    },
    "kernelspec": {
      "name": "python3",
      "display_name": "Python 3"
    },
    "language_info": {
      "name": "python"
    }
  },
  "cells": [
    {
      "cell_type": "markdown",
      "metadata": {
        "id": "view-in-github",
        "colab_type": "text"
      },
      "source": [
        "<a href=\"https://colab.research.google.com/github/MyrewinGrepo/58009-DSAA/blob/main/midterm_exam.ipynb\" target=\"_parent\"><img src=\"https://colab.research.google.com/assets/colab-badge.svg\" alt=\"Open In Colab\"/></a>"
      ]
    },
    {
      "cell_type": "code",
      "execution_count": 5,
      "metadata": {
        "colab": {
          "base_uri": "https://localhost:8080/"
        },
        "id": "j1YI4nMQUk2S",
        "outputId": "79b39c60-0523-42b2-8b17-fb9ad3baade7"
      },
      "outputs": [
        {
          "output_type": "stream",
          "name": "stdout",
          "text": [
            "[{'A', 'B'}, {'B', 'E'}, {'B', 'F'}, {'C', 'B'}, {'C', 'E'}, {'C', 'F'}, {'C', 'D'}, {'C', 'I'}, {'C', 'M'}, {'c', 'D'}, {'l', 'D'}, {'D', 'k'}, {'E', 'N'}, {'G', 'F'}, {'F', 'I'}, {'G', 'I'}, {'G', 'J'}, {'I', 'J'}, {'K', 'I'}, {'K', 'J'}, {'K', 'D'}, {'L', 'D'}, {'L', 'M'}, {'L', 'P'}, {'N', 'M'}, {'M', 'P'}, {'N', 'O'}, {'M', 'O'}, {'P', 'O'}]\n"
          ]
        }
      ],
      "source": [
        "class graph:\n",
        "   def __init__(self,gdict=None):\n",
        "      if gdict is None:\n",
        "         gdict = {}\n",
        "      self.gdict = gdict\n",
        "\n",
        "   def edges(self):\n",
        "      return self.findedges()\n",
        "# Find the distinct list of edges\n",
        "   def findedges(self):\n",
        "      edgename = []\n",
        "      for vrtx in self.gdict:\n",
        "         for nxtvrtx in self.gdict[vrtx]:\n",
        "            if {nxtvrtx, vrtx} not in edgename:\n",
        "               edgename.append({vrtx, nxtvrtx})\n",
        "      return edgename\n",
        "# Create the dictionary with graph elements\n",
        "graph_elements = {\n",
        "   \"A\" : [\"B\"],\n",
        "   \"B\" : [\"E\", \"F\", \"C\"],\n",
        "   \"C\" : [\"E\", \"B\", \"F\", \"D\", \"I\", \"M\"],\n",
        "   \"D\" : [\"c\",\"l\", \"k\"],\n",
        "   \"E\" : [\"B\", \"C\", \"N\"],\n",
        "   \"F\" : [\"B\",\"C\",\"G\",\"I\"],\n",
        "   \"G\" : [\"I\",\"F\",\"J\"],\n",
        "   \"I\" : [\"C\",\"F\",\"G\",\"J\",\"K\"],\n",
        "   \"J\" : [\"I\",\"G\",\"K\"],\n",
        "   \"K\" : [\"D\",\"I\",\"J\"],\n",
        "   \"L\" : [\"D\",\"M\",\"P\"],\n",
        "   \"M\" : [\"C\",\"N\",\"P\",\"L\"],\n",
        "   \"N\" : [\"O\",\"M\",\"E\"],\n",
        "   \"O\" : [\"N\",\"M\",\"P\"],\n",
        "   \"P\" : [\"O\",\"M\",\"L\"],\n",
        "}\n",
        "g = graph(graph_elements)\n",
        "print(g.edges())"
      ]
    },
    {
      "cell_type": "code",
      "source": [
        "class graph:\n",
        "   def __init__(self,gdict=None):\n",
        "      if gdict is None:\n",
        "         gdict = []\n",
        "      self.gdict = gdict\n",
        "# Get the keys of the dictionary\n",
        "   def getVertices(self):\n",
        "      return list(self.gdict.keys())\n",
        "# Create the dictionary with graph elements\n",
        "graph_elements = {\n",
        "   \"A\" : [\"B\"],\n",
        "   \"B\" : [\"E\", \"F\", \"C\"],\n",
        "   \"C\" : [\"E\", \"B\", \"F\", \"D\", \"I\", \"M\"],\n",
        "   \"D\" : [\"c\",\"l\", \"k\"],\n",
        "   \"E\" : [\"B\", \"C\", \"N\"],\n",
        "   \"F\" : [\"B\",\"C\",\"G\",\"I\"],\n",
        "   \"G\" : [\"I\",\"F\",\"J\"],\n",
        "   \"I\" : [\"C\",\"F\",\"G\",\"J\",\"K\"],\n",
        "   \"J\" : [\"I\",\"G\",\"K\"],\n",
        "   \"K\" : [\"D\",\"I\",\"J\"],\n",
        "   \"L\" : [\"D\",\"M\",\"P\"],\n",
        "   \"M\" : [\"C\",\"N\",\"P\",\"L\"],\n",
        "   \"N\" : [\"O\",\"M\",\"E\"],\n",
        "   \"O\" : [\"N\",\"M\",\"P\"],\n",
        "   \"P\" : [\"O\",\"M\",\"L\"],\n",
        "}\n",
        "g = graph(graph_elements)\n",
        "print(g.getVertices())"
      ],
      "metadata": {
        "colab": {
          "base_uri": "https://localhost:8080/"
        },
        "id": "gp4XQc_odvLn",
        "outputId": "fbe4c1fe-92b0-4780-8348-175fa5540ab9"
      },
      "execution_count": 4,
      "outputs": [
        {
          "output_type": "stream",
          "name": "stdout",
          "text": [
            "['A', 'B', 'C', 'D', 'E', 'F', 'G', 'I', 'J', 'K', 'L', 'M', 'N', 'O', 'P']\n"
          ]
        }
      ]
    }
  ]
}