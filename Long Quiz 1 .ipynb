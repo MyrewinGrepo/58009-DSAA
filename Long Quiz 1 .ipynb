{
  "nbformat": 4,
  "nbformat_minor": 0,
  "metadata": {
    "colab": {
      "provenance": [],
      "authorship_tag": "ABX9TyNczDL7DT6VfuLOM73xOX6f",
      "include_colab_link": true
    },
    "kernelspec": {
      "name": "python3",
      "display_name": "Python 3"
    },
    "language_info": {
      "name": "python"
    }
  },
  "cells": [
    {
      "cell_type": "markdown",
      "metadata": {
        "id": "view-in-github",
        "colab_type": "text"
      },
      "source": [
        "<a href=\"https://colab.research.google.com/github/MyrewinGrepo/58009-DSAA/blob/main/Long%20Quiz%20.ipynb\" target=\"_parent\"><img src=\"https://colab.research.google.com/assets/colab-badge.svg\" alt=\"Open In Colab\"/></a>"
      ]
    },
    {
      "cell_type": "code",
      "execution_count": 10,
      "metadata": {
        "colab": {
          "base_uri": "https://localhost:8080/"
        },
        "id": "IIERM-bw1N2i",
        "outputId": "c3fadc14-e2ac-4003-a859-422e2cc6688e"
      },
      "outputs": [
        {
          "output_type": "stream",
          "name": "stdout",
          "text": [
            "['O', 'P', 'E', 'R', 'G', 'N', 'I', 'W', 'E', 'R', 'Y', 'M']\n"
          ]
        }
      ],
      "source": [
        "name=[]\n",
        "name.append('M')\n",
        "name.append('Y')\n",
        "name.append('R')\n",
        "name.append('E')\n",
        "name.append('W')\n",
        "name.append('I')\n",
        "name.append('N')\n",
        "name.append('G')\n",
        "name.append('R')\n",
        "name.append('E')\n",
        "name.append('P')\n",
        "name.append('O')\n",
        "\n",
        "name.reverse()\n",
        "print(name)"
      ]
    },
    {
      "cell_type": "code",
      "source": [
        "Numbers=[1,2,3,4,5,6,7,8,9,10]\n",
        "\n",
        "for x in Numbers:\n",
        "  if x <= 1:\n",
        "    print (f'{x} is composite')\n",
        "print ('2 is prime number')\n",
        "for x in Numbers:\n",
        "  if x >= 2:\n",
        "    if x !=9:\n",
        "      if x%2 == 1:\n",
        "        print (f'{x} is prime number')\n",
        "  if x == 9:\n",
        "    print(f'{x} is composite number')\n",
        "  if x != 2:\n",
        "    if x%2 == 0:\n",
        "      print (f'{x} is composite number')"
      ],
      "metadata": {
        "colab": {
          "base_uri": "https://localhost:8080/"
        },
        "id": "x1NdZUew6qMp",
        "outputId": "d9b1b673-7626-450d-e2ea-4ee4171dffcc"
      },
      "execution_count": 20,
      "outputs": [
        {
          "output_type": "stream",
          "name": "stdout",
          "text": [
            "1 is composite\n",
            "2 is prime number\n",
            "3 is prime number\n",
            "4 is composite number\n",
            "5 is prime number\n",
            "6 is composite number\n",
            "7 is prime number\n",
            "8 is composite number\n",
            "9 is composite number\n",
            "10 is composite number\n"
          ]
        }
      ]
    }
  ]
}
