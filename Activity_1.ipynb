{
  "nbformat": 4,
  "nbformat_minor": 0,
  "metadata": {
    "colab": {
      "provenance": [],
      "authorship_tag": "ABX9TyONzvgWbVtSsqaRXoxzyXPZ",
      "include_colab_link": true
    },
    "kernelspec": {
      "name": "python3",
      "display_name": "Python 3"
    },
    "language_info": {
      "name": "python"
    }
  },
  "cells": [
    {
      "cell_type": "markdown",
      "metadata": {
        "id": "view-in-github",
        "colab_type": "text"
      },
      "source": [
        "<a href=\"https://colab.research.google.com/github/MyrewinGrepo/58009-DSAA/blob/main/Activity_1.ipynb\" target=\"_parent\"><img src=\"https://colab.research.google.com/assets/colab-badge.svg\" alt=\"Open In Colab\"/></a>"
      ]
    },
    {
      "cell_type": "markdown",
      "source": [
        "Write a Python program to create an array of 10 integers and display the array items. Access individual elements through indexes and compute for the sum."
      ],
      "metadata": {
        "id": "dP6rNpGfnZyB"
      }
    },
    {
      "cell_type": "code",
      "source": [
        "number = [2,4,6,8,10,12,14,16,18,20]\n",
        "print(number)\n",
        "print(\"0 =\",number[0])\n",
        "print(\"1 =\",number[1])\n",
        "print(\"2 =\",number[2])\n",
        "print(\"3 =\",number[3])\n",
        "print(\"4 =\",number[4])\n",
        "print(\"5 =\",number[5])\n",
        "print(\"6 =\",number[6])\n",
        "print(\"7 =\",number[7])\n",
        "print(\"8 =\",number[8])\n",
        "print(\"9 =\",number[9])\n",
        "number_sum = sum(number)\n",
        "print(number_sum)"
      ],
      "metadata": {
        "colab": {
          "base_uri": "https://localhost:8080/"
        },
        "id": "jpaW6iX7j0qa",
        "outputId": "a6e2de98-f740-467e-a017-6182543d348f"
      },
      "execution_count": 26,
      "outputs": [
        {
          "output_type": "stream",
          "name": "stdout",
          "text": [
            "[2, 4, 6, 8, 10, 12, 14, 16, 18, 20]\n",
            "0 = 2\n",
            "1 = 4\n",
            "2 = 6\n",
            "3 = 8\n",
            "4 = 10\n",
            "5 = 12\n",
            "6 = 14\n",
            "7 = 16\n",
            "8 = 18\n",
            "9 = 20\n",
            "110\n"
          ]
        }
      ]
    },
    {
      "cell_type": "markdown",
      "source": [
        "Write a Python program to append a new item to the end of the array."
      ],
      "metadata": {
        "id": "Sl0j7JIsneXH"
      }
    },
    {
      "cell_type": "code",
      "source": [
        "number = [2,4,6,8,10,12,14,16,18,20]\n",
        "number.append(56)\n",
        "print(number)"
      ],
      "metadata": {
        "colab": {
          "base_uri": "https://localhost:8080/"
        },
        "id": "0OcpSuSHjFPV",
        "outputId": "dd47939d-fe1e-4a49-84de-7b7b474de460"
      },
      "execution_count": 3,
      "outputs": [
        {
          "output_type": "stream",
          "name": "stdout",
          "text": [
            "[2, 4, 6, 8, 10, 12, 14, 16, 18, 20, 56]\n"
          ]
        }
      ]
    },
    {
      "cell_type": "markdown",
      "source": [
        "Write a Python program to insert a new item before the second element in an existing array"
      ],
      "metadata": {
        "id": "yvKtoghknikA"
      }
    },
    {
      "cell_type": "code",
      "source": [
        "number = [2,4,6,8,10,12,14,16,18,20]\n",
        "number.insert(1,34)\n",
        "print(number)"
      ],
      "metadata": {
        "colab": {
          "base_uri": "https://localhost:8080/"
        },
        "id": "dTdnHUAUjPg6",
        "outputId": "38ac3fc1-c7bf-4b99-852b-f79237c0d660"
      },
      "execution_count": 4,
      "outputs": [
        {
          "output_type": "stream",
          "name": "stdout",
          "text": [
            "[2, 34, 4, 6, 8, 10, 12, 14, 16, 18, 20]\n"
          ]
        }
      ]
    },
    {
      "cell_type": "markdown",
      "source": [
        "Write a Python program to reverse the order of the items in the array.Original array: numbers"
      ],
      "metadata": {
        "id": "44606JronmUn"
      }
    },
    {
      "cell_type": "code",
      "source": [
        "number = [2,4,6,8,10,12,14,16,18,20]\n",
        "number.reverse()\n",
        "print(number)"
      ],
      "metadata": {
        "colab": {
          "base_uri": "https://localhost:8080/"
        },
        "id": "VJTN6tx2jdgp",
        "outputId": "37681c03-a011-48f1-8900-df9955c0338d"
      },
      "execution_count": 5,
      "outputs": [
        {
          "output_type": "stream",
          "name": "stdout",
          "text": [
            "[20, 18, 16, 14, 12, 10, 8, 6, 4, 2]\n"
          ]
        }
      ]
    },
    {
      "cell_type": "markdown",
      "source": [
        "Write a Python program to get the length of the array. Original array: numbers"
      ],
      "metadata": {
        "id": "IZTqKDPQnoi_"
      }
    },
    {
      "cell_type": "code",
      "source": [
        "number = [2,4,6,8,10,12,14,16,18,20]\n",
        "x = len(number)\n",
        "print(x)"
      ],
      "metadata": {
        "colab": {
          "base_uri": "https://localhost:8080/"
        },
        "id": "l0HikWX-jjPw",
        "outputId": "5648ad2d-da21-4b2d-8ab8-e5419a0f7901"
      },
      "execution_count": 6,
      "outputs": [
        {
          "output_type": "stream",
          "name": "stdout",
          "text": [
            "10\n"
          ]
        }
      ]
    }
  ]
}