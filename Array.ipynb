{
  "nbformat": 4,
  "nbformat_minor": 0,
  "metadata": {
    "colab": {
      "provenance": [],
      "authorship_tag": "ABX9TyM6mvk/SHnQ4eMVJ3lw6Jqc",
      "include_colab_link": true
    },
    "kernelspec": {
      "name": "python3",
      "display_name": "Python 3"
    },
    "language_info": {
      "name": "python"
    }
  },
  "cells": [
    {
      "cell_type": "markdown",
      "metadata": {
        "id": "view-in-github",
        "colab_type": "text"
      },
      "source": [
        "<a href=\"https://colab.research.google.com/github/MyrewinGrepo/58009-DSAA/blob/main/Array.ipynb\" target=\"_parent\"><img src=\"https://colab.research.google.com/assets/colab-badge.svg\" alt=\"Open In Colab\"/></a>"
      ]
    },
    {
      "cell_type": "markdown",
      "source": [
        "#Accessing the Element in the Array"
      ],
      "metadata": {
        "id": "zeAhqsbwXslq"
      }
    },
    {
      "cell_type": "code",
      "execution_count": null,
      "metadata": {
        "colab": {
          "base_uri": "https://localhost:8080/"
        },
        "id": "8EfinPQ7WgJk",
        "outputId": "ab364f01-5dc1-4bf2-ef67-1c4e64046905"
      },
      "outputs": [
        {
          "output_type": "stream",
          "name": "stdout",
          "text": [
            "cat\n"
          ]
        }
      ],
      "source": [
        "animals = [\"cat\",\"dog\",\"fish\"]\n",
        "x = animals[0]\n",
        "print (x)"
      ]
    },
    {
      "cell_type": "markdown",
      "source": [
        "#Modifying"
      ],
      "metadata": {
        "id": "tkYPFyEDYPHk"
      }
    },
    {
      "cell_type": "code",
      "source": [
        "animals = [\"cat\",\"dog\",\"fish\"]\n",
        "animals[0] = \"monkey\"\n",
        "print(animals)"
      ],
      "metadata": {
        "colab": {
          "base_uri": "https://localhost:8080/"
        },
        "id": "y6mmRV7aYXAr",
        "outputId": "4d0b0dc7-fa16-4539-baa0-a569b0d0e837"
      },
      "execution_count": null,
      "outputs": [
        {
          "output_type": "stream",
          "name": "stdout",
          "text": [
            "['monkey', 'dog', 'fish']\n"
          ]
        }
      ]
    },
    {
      "cell_type": "markdown",
      "source": [
        "#Adding of an Array"
      ],
      "metadata": {
        "id": "NeR5vhKlYuYU"
      }
    },
    {
      "cell_type": "code",
      "source": [
        "animals = [\"cat\",\"dog\",\"fish\"]\n",
        "animals.insert(2,\"moneky\")\n",
        "print(animals)"
      ],
      "metadata": {
        "colab": {
          "base_uri": "https://localhost:8080/"
        },
        "id": "kIqt9A2PYzFE",
        "outputId": "cb247c3b-0791-40cf-94ad-4030d3d0dbbd"
      },
      "execution_count": 22,
      "outputs": [
        {
          "output_type": "stream",
          "name": "stdout",
          "text": [
            "['cat', 'dog', 'moneky', 'fish']\n"
          ]
        }
      ]
    },
    {
      "cell_type": "markdown",
      "source": [
        "#removing"
      ],
      "metadata": {
        "id": "frKbkpqqaLXb"
      }
    },
    {
      "cell_type": "code",
      "source": [
        "animals.pop(1)\n",
        "print(animals)"
      ],
      "metadata": {
        "colab": {
          "base_uri": "https://localhost:8080/"
        },
        "id": "BWz1-dVWaLuS",
        "outputId": "89600434-858b-4c38-8835-2c0fb47a7d1f"
      },
      "execution_count": null,
      "outputs": [
        {
          "output_type": "stream",
          "name": "stdout",
          "text": [
            "['cat', 'fish']\n"
          ]
        }
      ]
    },
    {
      "cell_type": "markdown",
      "source": [
        "#Sort"
      ],
      "metadata": {
        "id": "qoRBPpwIa9yQ"
      }
    },
    {
      "cell_type": "code",
      "source": [
        "animals.sort()\n",
        "print(animals)"
      ],
      "metadata": {
        "colab": {
          "base_uri": "https://localhost:8080/"
        },
        "id": "OjduCNf3bACn",
        "outputId": "6cd7db76-58f9-4ed1-b33c-16e053e1faad"
      },
      "execution_count": 24,
      "outputs": [
        {
          "output_type": "stream",
          "name": "stdout",
          "text": [
            "['cat', 'dog', 'fish', 'moneky']\n"
          ]
        }
      ]
    }
  ]
}