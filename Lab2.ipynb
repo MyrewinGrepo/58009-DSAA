{
  "nbformat": 4,
  "nbformat_minor": 0,
  "metadata": {
    "colab": {
      "provenance": []
    },
    "kernelspec": {
      "name": "python3",
      "display_name": "Python 3"
    },
    "language_info": {
      "name": "python"
    }
  },
  "cells": [
    {
      "cell_type": "code",
      "execution_count": null,
      "metadata": {
        "id": "PSIooxBu6ZDY",
        "colab": {
          "base_uri": "https://localhost:8080/"
        },
        "outputId": "9e11fe13-20ba-4ad1-9359-6c29964a306b"
      },
      "outputs": [
        {
          "output_type": "stream",
          "name": "stdout",
          "text": [
            "-9\n",
            "9\n"
          ]
        }
      ],
      "source": [
        "def f(x):\n",
        "\n",
        " if x >= 0:\n",
        "  return x\n",
        " elif x<0:\n",
        "  return -x\n",
        " else:\n",
        "  return 0\n",
        "\n",
        "user_input=int(input())\n",
        "result = f(user_input)\n",
        "print(result)"
      ]
    }
  ]
}