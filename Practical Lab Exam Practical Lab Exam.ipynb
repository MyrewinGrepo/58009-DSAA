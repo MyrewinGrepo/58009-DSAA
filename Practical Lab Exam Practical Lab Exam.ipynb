{
  "nbformat": 4,
  "nbformat_minor": 0,
  "metadata": {
    "colab": {
      "provenance": [],
      "authorship_tag": "ABX9TyP99M1KFENPyI7OKY3vE4CP",
      "include_colab_link": true
    },
    "kernelspec": {
      "name": "python3",
      "display_name": "Python 3"
    },
    "language_info": {
      "name": "python"
    }
  },
  "cells": [
    {
      "cell_type": "markdown",
      "metadata": {
        "id": "view-in-github",
        "colab_type": "text"
      },
      "source": [
        "<a href=\"https://colab.research.google.com/github/MyrewinGrepo/58009-DSAA/blob/main/Practical%20Lab%20Exam%20Practical%20Lab%20Exam.ipynb\" target=\"_parent\"><img src=\"https://colab.research.google.com/assets/colab-badge.svg\" alt=\"Open In Colab\"/></a>"
      ]
    },
    {
      "cell_type": "code",
      "execution_count": 8,
      "metadata": {
        "colab": {
          "base_uri": "https://localhost:8080/"
        },
        "id": "Pw568haMXK1J",
        "outputId": "2c7677d3-f9e2-435a-9e68-dd234c3f5264"
      },
      "outputs": [
        {
          "output_type": "stream",
          "name": "stdout",
          "text": [
            "Total odds: 211\n"
          ]
        }
      ],
      "source": [
        "def Testscore(a, n):\n",
        "    even = 0\n",
        "    odd = 0\n",
        "    for i in range(n):\n",
        "\n",
        "        if i % 2 == 0:\n",
        "            even += a[i]\n",
        "        else:\n",
        "            odd += a[i]\n",
        "    print (\"Total odds:\", odd)\n",
        "\n",
        "\n",
        "arr = [26,49,98,87,62,75]\n",
        "n = len(arr)\n",
        "\n",
        "Testscore(arr, n)"
      ]
    }
  ]
}