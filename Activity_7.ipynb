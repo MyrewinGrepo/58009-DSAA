{
  "nbformat": 4,
  "nbformat_minor": 0,
  "metadata": {
    "colab": {
      "provenance": [],
      "authorship_tag": "ABX9TyPOMPGlmvNtnNcBKSvIKYyb",
      "include_colab_link": true
    },
    "kernelspec": {
      "name": "python3",
      "display_name": "Python 3"
    },
    "language_info": {
      "name": "python"
    }
  },
  "cells": [
    {
      "cell_type": "markdown",
      "metadata": {
        "id": "view-in-github",
        "colab_type": "text"
      },
      "source": [
        "<a href=\"https://colab.research.google.com/github/MyrewinGrepo/58009-DSAA/blob/main/Activity_7.ipynb\" target=\"_parent\"><img src=\"https://colab.research.google.com/assets/colab-badge.svg\" alt=\"Open In Colab\"/></a>"
      ]
    },
    {
      "cell_type": "code",
      "execution_count": 9,
      "metadata": {
        "colab": {
          "base_uri": "https://localhost:8080/"
        },
        "id": "NKOq14BUL3kW",
        "outputId": "e77c9f52-d8d6-423e-d271-295b7addd7fc"
      },
      "outputs": [
        {
          "output_type": "stream",
          "name": "stdout",
          "text": [
            "[{'1', '2'}, {'1', '3'}, {'1', '5'}, {'1', '6'}, {'3', '2'}, {'2', '5'}, {'2', '6'}, {'3', '4'}, {'3', '5'}, {'2', '4'}]\n"
          ]
        }
      ],
      "source": [
        "#Display Graph Edges\n",
        "\n",
        "class graph:\n",
        "   def __init__(self,gdict=None):\n",
        "      if gdict is None:\n",
        "         gdict = {}\n",
        "      self.gdict = gdict\n",
        "\n",
        "   def edges(self):\n",
        "      return self.findedges()\n",
        "# Find the distinct list of edges\n",
        "   def findedges(self):\n",
        "      edgename = []\n",
        "      for vrtx in self.gdict:\n",
        "         for nxtvrtx in self.gdict[vrtx]:\n",
        "            if {nxtvrtx, vrtx} not in edgename:\n",
        "               edgename.append({vrtx, nxtvrtx})\n",
        "      return edgename\n",
        "# Create the dictionary with graph elements\n",
        "graph_elements = {\n",
        "   \"1\" : [\"2\",\"3\",\"5\",\"6\"],\n",
        "   \"2\" : [\"1\", \"3\",\"5\",\"6\"],\n",
        "   \"3\" : [\"1\", \"2\",\"4\",\"5\"],\n",
        "   \"4\" : [\"2\",\"3\"],\n",
        "   \"5\" : [\"1\",\"2\",\"3\"],\n",
        "   \"6\" : [\"1\",\"2\"]\n",
        "}\n",
        "g = graph(graph_elements)\n",
        "print(g.edges())"
      ]
    },
    {
      "cell_type": "code",
      "source": [
        "#Display Graph Vertices\n",
        "\n",
        "class graph:\n",
        "   def __init__(self,gdict=None):\n",
        "      if gdict is None:\n",
        "         gdict = []\n",
        "      self.gdict = gdict\n",
        "# Get the keys of the dictionary\n",
        "   def getVertices(self):\n",
        "      return list(self.gdict.keys())\n",
        "# Create the dictionary with graph elements\n",
        "graph_elements = {\n",
        "   \"1\" : [\"2\",\"3\",\"5\",\"6\"],\n",
        "   \"2\" : [\"1\", \"3\",\"5\",\"6\"],\n",
        "   \"3\" : [\"1\", \"2\",\"4\",\"5\"],\n",
        "   \"4\" : [\"2\",\"3\"],\n",
        "   \"5\" : [\"1\",\"2\",\"3\"],\n",
        "   \"6\" : [\"1\",\"2\"]\n",
        "}\n",
        "g = graph(graph_elements)\n",
        "print(g.getVertices())"
      ],
      "metadata": {
        "colab": {
          "base_uri": "https://localhost:8080/"
        },
        "id": "mESw9QKzOEob",
        "outputId": "2e5387bd-dc21-4e2f-f00f-4ed6e50ba9f3"
      },
      "execution_count": 10,
      "outputs": [
        {
          "output_type": "stream",
          "name": "stdout",
          "text": [
            "['1', '2', '3', '4', '5', '6']\n"
          ]
        }
      ]
    }
  ]
}