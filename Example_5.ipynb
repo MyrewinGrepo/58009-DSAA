{
  "nbformat": 4,
  "nbformat_minor": 0,
  "metadata": {
    "colab": {
      "provenance": [],
      "authorship_tag": "ABX9TyPe9auMe3Ej3jfE+ZZzG7hY",
      "include_colab_link": true
    },
    "kernelspec": {
      "name": "python3",
      "display_name": "Python 3"
    },
    "language_info": {
      "name": "python"
    }
  },
  "cells": [
    {
      "cell_type": "markdown",
      "metadata": {
        "id": "view-in-github",
        "colab_type": "text"
      },
      "source": [
        "<a href=\"https://colab.research.google.com/github/MyrewinGrepo/58009-DSAA/blob/main/Example_5.ipynb\" target=\"_parent\"><img src=\"https://colab.research.google.com/assets/colab-badge.svg\" alt=\"Open In Colab\"/></a>"
      ]
    },
    {
      "cell_type": "code",
      "execution_count": 8,
      "metadata": {
        "colab": {
          "base_uri": "https://localhost:8080/"
        },
        "id": "9enqg6hc7Kmn",
        "outputId": "f2472972-fcf6-418a-c68d-320cfd8c58a4"
      },
      "outputs": [
        {
          "output_type": "stream",
          "name": "stdout",
          "text": [
            "1\n",
            "2\n",
            "3\n",
            "2\n",
            "1\n"
          ]
        }
      ],
      "source": [
        "class Node:\n",
        "    def __init__(self, data):\n",
        "        self.data = data\n",
        "        self.next = None\n",
        "\n",
        "class LinkedList:\n",
        "    def __init__(self):\n",
        "        self.head = None\n",
        "\n",
        "    def append(self, data):\n",
        "        new_node = Node(data)\n",
        "        if self.head is None:\n",
        "            self.head = new_node\n",
        "        else:\n",
        "            current = self.head\n",
        "            while current.next:\n",
        "                current = current.next\n",
        "            current.next = new_node\n",
        "\n",
        "    def traverse(self):\n",
        "        current = self.head\n",
        "        while current:\n",
        "            print(current.data, end=\"\\n\")\n",
        "            current = current.next\n",
        "\n",
        "my_list = LinkedList()\n",
        "my_list.append(1)\n",
        "my_list.append(2)\n",
        "my_list.append(3)\n",
        "my_list.append(2)\n",
        "my_list.append(1)\n",
        "\n",
        "my_list.traverse()"
      ]
    }
  ]
}