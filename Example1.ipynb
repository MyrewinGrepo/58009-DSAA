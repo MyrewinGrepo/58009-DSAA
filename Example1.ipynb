{
  "nbformat": 4,
  "nbformat_minor": 0,
  "metadata": {
    "colab": {
      "provenance": [],
      "authorship_tag": "ABX9TyPIk1ssFhCFiXqefiJiDip4",
      "include_colab_link": true
    },
    "kernelspec": {
      "name": "python3",
      "display_name": "Python 3"
    },
    "language_info": {
      "name": "python"
    }
  },
  "cells": [
    {
      "cell_type": "markdown",
      "metadata": {
        "id": "view-in-github",
        "colab_type": "text"
      },
      "source": [
        "<a href=\"https://colab.research.google.com/github/MyrewinGrepo/58009-DSAA/blob/main/Example1.ipynb\" target=\"_parent\"><img src=\"https://colab.research.google.com/assets/colab-badge.svg\" alt=\"Open In Colab\"/></a>"
      ]
    },
    {
      "cell_type": "code",
      "execution_count": 4,
      "metadata": {
        "colab": {
          "base_uri": "https://localhost:8080/"
        },
        "id": "YvUNi5yF3zlA",
        "outputId": "6408eb1b-e7b3-4935-c07b-3fa9966f97e2"
      },
      "outputs": [
        {
          "output_type": "stream",
          "name": "stdout",
          "text": [
            "Enter the width of a rectangle: 20\n",
            "Enter the height of a rectangle: 20\n",
            "Area of a rectangle is: 400.00\n"
          ]
        }
      ],
      "source": [
        "def Areaofrectangle(width, height):\n",
        "    Area = width * height\n",
        "    print(\"Area of a rectangle is: %.2f\" %Area)\n",
        "width = float(input('Enter the width of a rectangle: '))\n",
        "height = float(input('Enter the height of a rectangle: '))\n",
        "Areaofrectangle(width, height)\n"
      ]
    }
  ]
}